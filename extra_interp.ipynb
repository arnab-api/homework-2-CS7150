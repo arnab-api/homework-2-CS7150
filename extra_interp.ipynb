{
 "cells": [
  {
   "cell_type": "code",
   "execution_count": 1,
   "metadata": {},
   "outputs": [],
   "source": [
    "# Import Libraries\n",
    "\n",
    "import torch\n",
    "import numpy as np\n",
    "import torch.nn as nn\n",
    "import torch.optim as optim\n",
    "import matplotlib\n",
    "from torch.nn import Sequential, Module\n",
    "from matplotlib import pyplot as plt\n",
    "from scipy.stats import norm\n",
    "from hw2utils import LossFunctionWithPlot, ConstantVectorNetwork"
   ]
  },
  {
   "cell_type": "code",
   "execution_count": 2,
   "metadata": {},
   "outputs": [
    {
     "name": "stdout",
     "output_type": "stream",
     "text": [
      "The training data has 8000 samples, each a vector of 36 numbers along with\n",
      "a corresponding set of 8000 labels, assigning 0.0 or 1.0 to each sample.\n",
      "The test data has 1000 samples and labels that are disjoint from the training data.\n"
     ]
    }
   ],
   "source": [
    "# Loading the data\n",
    "import numpy\n",
    "train_data, train_labels, test_data, test_labels = [\n",
    "    torch.tensor(m[k]).float()\n",
    "    for m in [numpy.load('tiny-classification.npz')]\n",
    "    for k in 'train_data train_labels val_data val_labels'.split()]\n",
    "\n",
    "print(f'The training data has {train_data.size(0)} samples, each a vector of {train_data.size(1)} numbers along with')\n",
    "print(f'a corresponding set of {train_labels.size(0)} labels, assigning {train_labels.min()} or {train_labels.max()} to each sample.')\n",
    "\n",
    "print(f'The test data has {test_data.size(0)} samples and labels that are disjoint from the training data.')"
   ]
  },
  {
   "cell_type": "code",
   "execution_count": 3,
   "metadata": {},
   "outputs": [
    {
     "data": {
      "text/plain": [
       "Sequential(\n",
       "  (0): Linear(in_features=36, out_features=16, bias=True)\n",
       "  (1): ResidualBlock(\n",
       "    (fan_out): Sequential(\n",
       "      (0): BatchNorm1d(16, eps=1e-05, momentum=0.1, affine=True, track_running_stats=True)\n",
       "      (1): Linear(in_features=16, out_features=32, bias=True)\n",
       "    )\n",
       "    (fan_in): Sequential(\n",
       "      (0): ReLU()\n",
       "      (1): Linear(in_features=32, out_features=16, bias=True)\n",
       "    )\n",
       "  )\n",
       "  (2): ResidualBlock(\n",
       "    (fan_out): Sequential(\n",
       "      (0): BatchNorm1d(16, eps=1e-05, momentum=0.1, affine=True, track_running_stats=True)\n",
       "      (1): Linear(in_features=16, out_features=32, bias=True)\n",
       "    )\n",
       "    (fan_in): Sequential(\n",
       "      (0): ReLU()\n",
       "      (1): Linear(in_features=32, out_features=16, bias=True)\n",
       "    )\n",
       "  )\n",
       "  (3): BatchNorm1d(16, eps=1e-05, momentum=0.1, affine=True, track_running_stats=True)\n",
       "  (4): Linear(in_features=16, out_features=1, bias=True)\n",
       "  (5): Sigmoid()\n",
       ")"
      ]
     },
     "execution_count": 3,
     "metadata": {},
     "output_type": "execute_result"
    }
   ],
   "source": [
    "class ResidualBlock(torch.nn.Module):\n",
    "    def __init__(self, hidden_dims=16, fan_out_dims=32):\n",
    "        super().__init__()\n",
    "        self.fan_out = nn.Sequential(\n",
    "            nn.BatchNorm1d(hidden_dims), \n",
    "            nn.Linear(hidden_dims, fan_out_dims)\n",
    "        )\n",
    "        self.fan_in = nn.Sequential(\n",
    "            nn.ReLU(), \n",
    "            nn.Linear(fan_out_dims, hidden_dims)\n",
    "        )\n",
    "    \n",
    "    def forward(self, x):\n",
    "        add = self.fan_out(x)\n",
    "        add = self.fan_in(add)\n",
    "        return x + add\n",
    "\n",
    "input_size=train_data.size(1)\n",
    "hidden_dims= 16\n",
    "fan_out_dims= 32\n",
    "output_dims=1\n",
    "\n",
    "resnet_hard = nn.Sequential(\n",
    "    nn.Linear(input_size, hidden_dims),\n",
    "    ResidualBlock(hidden_dims, fan_out_dims),\n",
    "    ResidualBlock(hidden_dims, fan_out_dims),\n",
    "    nn.BatchNorm1d(hidden_dims),\n",
    "    nn.Linear(hidden_dims, output_dims),\n",
    "    nn.Sigmoid()\n",
    ")\n",
    "\n",
    "# initializing weights pretrained with tiny data\n",
    "resnet_hard.load_state_dict(torch.load('resnet_hard.pth'))\n",
    "resnet_hard.eval()"
   ]
  },
  {
   "cell_type": "code",
   "execution_count": 4,
   "metadata": {},
   "outputs": [
    {
     "data": {
      "text/plain": [
       "tensor(0.9990)"
      ]
     },
     "execution_count": 4,
     "metadata": {},
     "output_type": "execute_result"
    }
   ],
   "source": [
    "with torch.no_grad():\n",
    "    test_outputs = resnet_hard(test_data.float())\n",
    "    test_preds = (test_outputs.squeeze() > 0.5).float()\n",
    "    test_accuracy = (test_preds == test_labels).float().mean()\n",
    "test_accuracy"
   ]
  },
  {
   "cell_type": "code",
   "execution_count": 5,
   "metadata": {},
   "outputs": [],
   "source": [
    "test_one = torch.stack([sample for sample, label  in zip(test_data, test_labels) if label == 1])\n",
    "test_zero = torch.stack([sample for sample, label  in zip(test_data, test_labels) if label == 0])"
   ]
  },
  {
   "cell_type": "code",
   "execution_count": 6,
   "metadata": {},
   "outputs": [
    {
     "data": {
      "text/plain": [
       "<matplotlib.legend.Legend at 0x7f36fed322c0>"
      ]
     },
     "execution_count": 6,
     "metadata": {},
     "output_type": "execute_result"
    },
    {
     "data": {
      "image/png": "[encoded data removed]",
      "text/plain": [
       "<Figure size 640x480 with 1 Axes>"
      ]
     },
     "metadata": {},
     "output_type": "display_data"
    }
   ],
   "source": [
    "x = np.arange(test_one.shape[-1])\n",
    "barwidth = 0.35\n",
    "\n",
    "one_means = test_one.mean(dim=0).numpy()\n",
    "one_stds = test_one.std(dim=0).numpy()\n",
    "zero_means = test_zero.mean(dim=0).numpy()\n",
    "zero_stds = test_zero.std(dim=0).numpy()\n",
    "\n",
    "plt.bar(x-barwidth/2, one_means, width=barwidth, alpha=0.8, label='ONE')\n",
    "plt.bar(x+barwidth/2, zero_means, width=barwidth, alpha=0.8, label='ZERO')\n",
    "\n",
    "# plt.vlines(\n",
    "#     x-barWidth/2,\n",
    "#     one_means - one_stds,\n",
    "#     one_means + one_stds,\n",
    "#     colors='black',\n",
    "# )\n",
    "# plt.scatter(x-barWidth/2, one_means - one_stds, color='black', s=10, marker='_')\n",
    "# plt.scatter(x-barWidth/2, one_means + one_stds, color='black', s=10, marker='_')\n",
    "\n",
    "# plt.vlines(\n",
    "#     x+barWidth/2,\n",
    "#     zero_means - zero_stds,\n",
    "#     zero_means + zero_stds,\n",
    "#     colors='black',\n",
    "# )\n",
    "# plt.scatter(x+barWidth/2, zero_means - zero_stds, color='black', s=10, marker='_')\n",
    "# plt.scatter(x+barWidth/2, zero_means + zero_stds, color='black', s=10, marker='_')\n",
    "\n",
    "# plt.xticks(x, [f'{i}' for i in range(x.shape[0])])\n",
    "plt.legend()"
   ]
  },
  {
   "cell_type": "code",
   "execution_count": 7,
   "metadata": {},
   "outputs": [],
   "source": [
    "import baukit"
   ]
  },
  {
   "cell_type": "code",
   "execution_count": 12,
   "metadata": {},
   "outputs": [
    {
     "data": {
      "text/plain": [
       "Sequential(\n",
       "  (0): BatchNorm1d(16, eps=1e-05, momentum=0.1, affine=True, track_running_stats=True)\n",
       "  (1): Linear(in_features=16, out_features=32, bias=True)\n",
       ")"
      ]
     },
     "execution_count": 12,
     "metadata": {},
     "output_type": "execute_result"
    }
   ],
   "source": [
    "baukit.get_module(resnet_hard, \"1.fan_out\")"
   ]
  },
  {
   "cell_type": "code",
   "execution_count": null,
   "metadata": {},
   "outputs": [],
   "source": []
  }
 ],
 "metadata": {
  "kernelspec": {
   "display_name": "dl",
   "language": "python",
   "name": "python3"
  },
  "language_info": {
   "codemirror_mode": {
    "name": "ipython",
    "version": 3
   },
   "file_extension": ".py",
   "mimetype": "text/x-python",
   "name": "python",
   "nbconvert_exporter": "python",
   "pygments_lexer": "ipython3",
   "version": "3.10.6"
  },
  "orig_nbformat": 4
 },
 "nbformat": 4,
 "nbformat_minor": 2
}
